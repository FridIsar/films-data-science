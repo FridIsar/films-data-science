{
 "cells": [
  {
   "cell_type": "markdown",
   "id": "18cf1190",
   "metadata": {},
   "source": [
    "# Initialisation\n",
    "## Import modules"
   ]
  },
  {
   "cell_type": "code",
   "execution_count": 1,
   "id": "b2b8c906",
   "metadata": {
    "scrolled": true
   },
   "outputs": [],
   "source": [
    "%matplotlib notebook\n",
    "import matplotlib.pyplot as plt\n",
    "import pandas as pd\n",
    "import numpy as np\n",
    "\n",
    "from sklearn.preprocessing import LabelEncoder\n",
    "from sklearn import tree\n",
    "from sklearn.model_selection import train_test_split\n",
    "\n",
    "from modules import visumodule # pip install seaborn\n",
    "\n",
    "from modules import cleanmodule as cm # pip install easymoney\n"
   ]
  },
  {
   "cell_type": "markdown",
   "id": "300b1fb0",
   "metadata": {},
   "source": [
    "## Import data"
   ]
  },
  {
   "cell_type": "code",
   "execution_count": 2,
   "id": "5ad8696c",
   "metadata": {},
   "outputs": [
    {
     "data": {
      "text/plain": [
       "imdb_title_id             object\n",
       "title                     object\n",
       "original_title            object\n",
       "year                      object\n",
       "date_published            object\n",
       "genre                     object\n",
       "duration                   int64\n",
       "country                   object\n",
       "language                  object\n",
       "director                  object\n",
       "writer                    object\n",
       "production_company        object\n",
       "actors                    object\n",
       "description               object\n",
       "avg_vote                 float64\n",
       "votes                      int64\n",
       "budget                    object\n",
       "usa_gross_income          object\n",
       "worlwide_gross_income     object\n",
       "metascore                float64\n",
       "reviews_from_users       float64\n",
       "reviews_from_critics     float64\n",
       "dtype: object"
      ]
     },
     "execution_count": 2,
     "metadata": {},
     "output_type": "execute_result"
    }
   ],
   "source": [
    "df = pd.read_csv(\"/Users/isar/PycharmProjects/films-data-science/datasets/films-imdb/IMDb movies.csv\", low_memory=False)\n",
    "vm = visumodule.Visualiser(df)\n",
    "df.head()\n",
    "df.dtypes"
   ]
  },
  {
   "cell_type": "markdown",
   "id": "e38f8971",
   "metadata": {},
   "source": [
    "## Définition succès"
   ]
  },
  {
   "cell_type": "code",
   "execution_count": 3,
   "id": "4c7e6bf4",
   "metadata": {},
   "outputs": [
    {
     "data": {
      "text/plain": [
       "1    6682\n",
       "0    6623\n",
       "Name: isgood, dtype: int64"
      ]
     },
     "execution_count": 3,
     "metadata": {},
     "output_type": "execute_result"
    }
   ],
   "source": [
    "df = df[df['metascore'].notna()] # keep rows where metascore not NaN\n",
    "df['isgood'] = np.where(df['metascore'] > 56, 1, 0)\n",
    "df['isgood'].value_counts()"
   ]
  },
  {
   "cell_type": "markdown",
   "id": "c3e64f43",
   "metadata": {},
   "source": [
    "## Nettoyage data"
   ]
  },
  {
   "cell_type": "code",
   "execution_count": 4,
   "id": "3fbd097a",
   "metadata": {},
   "outputs": [
    {
     "name": "stdout",
     "output_type": "stream",
     "text": [
      "13305\n"
     ]
    },
    {
     "data": {
      "text/html": [
       "<div>\n",
       "<style scoped>\n",
       "    .dataframe tbody tr th:only-of-type {\n",
       "        vertical-align: middle;\n",
       "    }\n",
       "\n",
       "    .dataframe tbody tr th {\n",
       "        vertical-align: top;\n",
       "    }\n",
       "\n",
       "    .dataframe thead th {\n",
       "        text-align: right;\n",
       "    }\n",
       "</style>\n",
       "<table border=\"1\" class=\"dataframe\">\n",
       "  <thead>\n",
       "    <tr style=\"text-align: right;\">\n",
       "      <th></th>\n",
       "      <th>imdb_title_id</th>\n",
       "      <th>title</th>\n",
       "      <th>original_title</th>\n",
       "      <th>year</th>\n",
       "      <th>date_published</th>\n",
       "      <th>genre</th>\n",
       "      <th>duration</th>\n",
       "      <th>country</th>\n",
       "      <th>language</th>\n",
       "      <th>director</th>\n",
       "      <th>...</th>\n",
       "      <th>description</th>\n",
       "      <th>avg_vote</th>\n",
       "      <th>votes</th>\n",
       "      <th>budget</th>\n",
       "      <th>usa_gross_income</th>\n",
       "      <th>worlwide_gross_income</th>\n",
       "      <th>metascore</th>\n",
       "      <th>reviews_from_users</th>\n",
       "      <th>reviews_from_critics</th>\n",
       "      <th>isgood</th>\n",
       "    </tr>\n",
       "  </thead>\n",
       "  <tbody>\n",
       "    <tr>\n",
       "      <th>76</th>\n",
       "      <td>tt0006864</td>\n",
       "      <td>Intolerance</td>\n",
       "      <td>Intolerance: Love's Struggle Throughout the Ages</td>\n",
       "      <td>1916</td>\n",
       "      <td>1918-02-24</td>\n",
       "      <td>Drama, History</td>\n",
       "      <td>163</td>\n",
       "      <td>USA</td>\n",
       "      <td>English</td>\n",
       "      <td>D.W. Griffith</td>\n",
       "      <td>...</td>\n",
       "      <td>The story of a poor young woman, separated by ...</td>\n",
       "      <td>7.8</td>\n",
       "      <td>13875</td>\n",
       "      <td>3377076.62</td>\n",
       "      <td>NaN</td>\n",
       "      <td>NaN</td>\n",
       "      <td>99.0</td>\n",
       "      <td>111.0</td>\n",
       "      <td>77.0</td>\n",
       "      <td>1</td>\n",
       "    </tr>\n",
       "    <tr>\n",
       "      <th>506</th>\n",
       "      <td>tt0017136</td>\n",
       "      <td>Metropolis</td>\n",
       "      <td>Metropolis</td>\n",
       "      <td>1927</td>\n",
       "      <td>1928-10-01</td>\n",
       "      <td>Drama, Sci-Fi</td>\n",
       "      <td>153</td>\n",
       "      <td>Germany</td>\n",
       "      <td>German</td>\n",
       "      <td>Fritz Lang</td>\n",
       "      <td>...</td>\n",
       "      <td>In a futuristic city sharply divided between t...</td>\n",
       "      <td>8.3</td>\n",
       "      <td>156076</td>\n",
       "      <td>33691028.30</td>\n",
       "      <td>$ 1236166</td>\n",
       "      <td>11811336.55</td>\n",
       "      <td>98.0</td>\n",
       "      <td>495.0</td>\n",
       "      <td>208.0</td>\n",
       "      <td>1</td>\n",
       "    </tr>\n",
       "    <tr>\n",
       "      <th>566</th>\n",
       "      <td>tt0018037</td>\n",
       "      <td>Il cantante di jazz</td>\n",
       "      <td>The Jazz Singer</td>\n",
       "      <td>1927</td>\n",
       "      <td>1928-02-04</td>\n",
       "      <td>Drama, Music, Musical</td>\n",
       "      <td>88</td>\n",
       "      <td>USA</td>\n",
       "      <td>English</td>\n",
       "      <td>Alan Crosland</td>\n",
       "      <td>...</td>\n",
       "      <td>The son of a Jewish Cantor must defy the tradi...</td>\n",
       "      <td>6.5</td>\n",
       "      <td>8866</td>\n",
       "      <td>3692926.88</td>\n",
       "      <td>NaN</td>\n",
       "      <td>NaN</td>\n",
       "      <td>66.0</td>\n",
       "      <td>104.0</td>\n",
       "      <td>63.0</td>\n",
       "      <td>1</td>\n",
       "    </tr>\n",
       "    <tr>\n",
       "      <th>628</th>\n",
       "      <td>tt0018773</td>\n",
       "      <td>Il circo</td>\n",
       "      <td>The Circus</td>\n",
       "      <td>1928</td>\n",
       "      <td>1928-10-01</td>\n",
       "      <td>Comedy, Romance</td>\n",
       "      <td>72</td>\n",
       "      <td>USA</td>\n",
       "      <td>English</td>\n",
       "      <td>Charles Chaplin</td>\n",
       "      <td>...</td>\n",
       "      <td>The Tramp finds work and the girl of his dream...</td>\n",
       "      <td>8.1</td>\n",
       "      <td>27414</td>\n",
       "      <td>7875910.40</td>\n",
       "      <td>NaN</td>\n",
       "      <td>235542.23</td>\n",
       "      <td>90.0</td>\n",
       "      <td>327.0</td>\n",
       "      <td>65.0</td>\n",
       "      <td>1</td>\n",
       "    </tr>\n",
       "    <tr>\n",
       "      <th>714</th>\n",
       "      <td>tt0019777</td>\n",
       "      <td>The Cocoanuts</td>\n",
       "      <td>The Cocoanuts</td>\n",
       "      <td>1929</td>\n",
       "      <td>1929-08-03</td>\n",
       "      <td>Comedy, Musical</td>\n",
       "      <td>96</td>\n",
       "      <td>USA</td>\n",
       "      <td>English</td>\n",
       "      <td>Robert Florey, Joseph Santley</td>\n",
       "      <td>...</td>\n",
       "      <td>During the Florida land boom,</td>\n",
       "      <td>7.0</td>\n",
       "      <td>6900</td>\n",
       "      <td>4375505.78</td>\n",
       "      <td>NaN</td>\n",
       "      <td>NaN</td>\n",
       "      <td>69.0</td>\n",
       "      <td>71.0</td>\n",
       "      <td>43.0</td>\n",
       "      <td>1</td>\n",
       "    </tr>\n",
       "  </tbody>\n",
       "</table>\n",
       "<p>5 rows × 23 columns</p>\n",
       "</div>"
      ],
      "text/plain": [
       "    imdb_title_id                title  \\\n",
       "76      tt0006864          Intolerance   \n",
       "506     tt0017136           Metropolis   \n",
       "566     tt0018037  Il cantante di jazz   \n",
       "628     tt0018773             Il circo   \n",
       "714     tt0019777        The Cocoanuts   \n",
       "\n",
       "                                       original_title  year date_published  \\\n",
       "76   Intolerance: Love's Struggle Throughout the Ages  1916     1918-02-24   \n",
       "506                                        Metropolis  1927     1928-10-01   \n",
       "566                                   The Jazz Singer  1927     1928-02-04   \n",
       "628                                        The Circus  1928     1928-10-01   \n",
       "714                                     The Cocoanuts  1929     1929-08-03   \n",
       "\n",
       "                     genre  duration  country language  \\\n",
       "76          Drama, History       163      USA  English   \n",
       "506          Drama, Sci-Fi       153  Germany   German   \n",
       "566  Drama, Music, Musical        88      USA  English   \n",
       "628        Comedy, Romance        72      USA  English   \n",
       "714        Comedy, Musical        96      USA  English   \n",
       "\n",
       "                          director  ...  \\\n",
       "76                   D.W. Griffith  ...   \n",
       "506                     Fritz Lang  ...   \n",
       "566                  Alan Crosland  ...   \n",
       "628                Charles Chaplin  ...   \n",
       "714  Robert Florey, Joseph Santley  ...   \n",
       "\n",
       "                                           description avg_vote   votes  \\\n",
       "76   The story of a poor young woman, separated by ...      7.8   13875   \n",
       "506  In a futuristic city sharply divided between t...      8.3  156076   \n",
       "566  The son of a Jewish Cantor must defy the tradi...      6.5    8866   \n",
       "628  The Tramp finds work and the girl of his dream...      8.1   27414   \n",
       "714                      During the Florida land boom,      7.0    6900   \n",
       "\n",
       "          budget  usa_gross_income  worlwide_gross_income  metascore  \\\n",
       "76    3377076.62               NaN                    NaN       99.0   \n",
       "506  33691028.30         $ 1236166            11811336.55       98.0   \n",
       "566   3692926.88               NaN                    NaN       66.0   \n",
       "628   7875910.40               NaN              235542.23       90.0   \n",
       "714   4375505.78               NaN                    NaN       69.0   \n",
       "\n",
       "    reviews_from_users  reviews_from_critics  isgood  \n",
       "76               111.0                  77.0       1  \n",
       "506              495.0                 208.0       1  \n",
       "566              104.0                  63.0       1  \n",
       "628              327.0                  65.0       1  \n",
       "714               71.0                  43.0       1  \n",
       "\n",
       "[5 rows x 23 columns]"
      ]
     },
     "execution_count": 4,
     "metadata": {},
     "output_type": "execute_result"
    }
   ],
   "source": [
    "print(len(df.index)) # nb rows\n",
    "\n",
    "df['country'] = df['country'].apply(cm.clean_countries).astype('str')\n",
    "\n",
    "df['date_published'] = df['date_published'].apply(cm.clean_dates).astype('datetime64')\n",
    "\n",
    "df['budget'] = df.apply(cm.clean_currency, axis=1, args=[\"budget\"]).astype('float')\n",
    "\n",
    "df['worlwide_gross_income'] = df.apply(cm.clean_currency, axis=1, args=[\"worlwide_gross_income\"]).astype('float')\n",
    "\n",
    "#df.loc[df['title'] == \"Jeanne\"]\n",
    "df.head()\n"
   ]
  },
  {
   "cell_type": "markdown",
   "id": "c5c9d748",
   "metadata": {},
   "source": [
    "## Isolation colonnes pertinentes"
   ]
  },
  {
   "cell_type": "code",
   "execution_count": 5,
   "id": "883c81ab",
   "metadata": {},
   "outputs": [
    {
     "data": {
      "text/html": [
       "<div>\n",
       "<style scoped>\n",
       "    .dataframe tbody tr th:only-of-type {\n",
       "        vertical-align: middle;\n",
       "    }\n",
       "\n",
       "    .dataframe tbody tr th {\n",
       "        vertical-align: top;\n",
       "    }\n",
       "\n",
       "    .dataframe thead th {\n",
       "        text-align: right;\n",
       "    }\n",
       "</style>\n",
       "<table border=\"1\" class=\"dataframe\">\n",
       "  <thead>\n",
       "    <tr style=\"text-align: right;\">\n",
       "      <th></th>\n",
       "      <th>genre</th>\n",
       "      <th>language</th>\n",
       "      <th>director</th>\n",
       "      <th>duration</th>\n",
       "    </tr>\n",
       "  </thead>\n",
       "  <tbody>\n",
       "    <tr>\n",
       "      <th>76</th>\n",
       "      <td>Drama, History</td>\n",
       "      <td>English</td>\n",
       "      <td>D.W. Griffith</td>\n",
       "      <td>163</td>\n",
       "    </tr>\n",
       "    <tr>\n",
       "      <th>506</th>\n",
       "      <td>Drama, Sci-Fi</td>\n",
       "      <td>German</td>\n",
       "      <td>Fritz Lang</td>\n",
       "      <td>153</td>\n",
       "    </tr>\n",
       "    <tr>\n",
       "      <th>566</th>\n",
       "      <td>Drama, Music, Musical</td>\n",
       "      <td>English</td>\n",
       "      <td>Alan Crosland</td>\n",
       "      <td>88</td>\n",
       "    </tr>\n",
       "    <tr>\n",
       "      <th>628</th>\n",
       "      <td>Comedy, Romance</td>\n",
       "      <td>English</td>\n",
       "      <td>Charles Chaplin</td>\n",
       "      <td>72</td>\n",
       "    </tr>\n",
       "    <tr>\n",
       "      <th>714</th>\n",
       "      <td>Comedy, Musical</td>\n",
       "      <td>English</td>\n",
       "      <td>Robert Florey, Joseph Santley</td>\n",
       "      <td>96</td>\n",
       "    </tr>\n",
       "    <tr>\n",
       "      <th>...</th>\n",
       "      <td>...</td>\n",
       "      <td>...</td>\n",
       "      <td>...</td>\n",
       "      <td>...</td>\n",
       "    </tr>\n",
       "    <tr>\n",
       "      <th>85784</th>\n",
       "      <td>Action, Crime, Drama</td>\n",
       "      <td>English</td>\n",
       "      <td>Philip Barantini</td>\n",
       "      <td>97</td>\n",
       "    </tr>\n",
       "    <tr>\n",
       "      <th>85803</th>\n",
       "      <td>Drama</td>\n",
       "      <td>Spanish, Catalan</td>\n",
       "      <td>Lucio Castro</td>\n",
       "      <td>84</td>\n",
       "    </tr>\n",
       "    <tr>\n",
       "      <th>85827</th>\n",
       "      <td>Biography, Comedy, Drama</td>\n",
       "      <td>English</td>\n",
       "      <td>Euros Lyn</td>\n",
       "      <td>113</td>\n",
       "    </tr>\n",
       "    <tr>\n",
       "      <th>85837</th>\n",
       "      <td>Action, Crime, Horror</td>\n",
       "      <td>English</td>\n",
       "      <td>Joe Begos</td>\n",
       "      <td>92</td>\n",
       "    </tr>\n",
       "    <tr>\n",
       "      <th>85839</th>\n",
       "      <td>Action, Comedy</td>\n",
       "      <td>English</td>\n",
       "      <td>Michael Dowse</td>\n",
       "      <td>88</td>\n",
       "    </tr>\n",
       "  </tbody>\n",
       "</table>\n",
       "<p>13278 rows × 4 columns</p>\n",
       "</div>"
      ],
      "text/plain": [
       "                          genre          language  \\\n",
       "76               Drama, History           English   \n",
       "506               Drama, Sci-Fi            German   \n",
       "566       Drama, Music, Musical           English   \n",
       "628             Comedy, Romance           English   \n",
       "714             Comedy, Musical           English   \n",
       "...                         ...               ...   \n",
       "85784      Action, Crime, Drama           English   \n",
       "85803                     Drama  Spanish, Catalan   \n",
       "85827  Biography, Comedy, Drama           English   \n",
       "85837     Action, Crime, Horror           English   \n",
       "85839            Action, Comedy           English   \n",
       "\n",
       "                            director  duration  \n",
       "76                     D.W. Griffith       163  \n",
       "506                       Fritz Lang       153  \n",
       "566                    Alan Crosland        88  \n",
       "628                  Charles Chaplin        72  \n",
       "714    Robert Florey, Joseph Santley        96  \n",
       "...                              ...       ...  \n",
       "85784               Philip Barantini        97  \n",
       "85803                   Lucio Castro        84  \n",
       "85827                      Euros Lyn       113  \n",
       "85837                      Joe Begos        92  \n",
       "85839                  Michael Dowse        88  \n",
       "\n",
       "[13278 rows x 4 columns]"
      ]
     },
     "execution_count": 5,
     "metadata": {},
     "output_type": "execute_result"
    }
   ],
   "source": [
    "tokeep =  ['genre', 'language', 'director', 'duration']\n",
    "\n",
    "# on trie si il reste de NaN\n",
    "for tk in tokeep:\n",
    "    df = df[df[tk].notna()]\n",
    "    \n",
    "inputs = df.loc[:, tokeep]\n",
    "inputs\n",
    "\n",
    "#vm.distribution(\"duration\")"
   ]
  },
  {
   "cell_type": "markdown",
   "id": "0f355f41",
   "metadata": {},
   "source": [
    "## Définition target"
   ]
  },
  {
   "cell_type": "code",
   "execution_count": 6,
   "id": "0e8b7756",
   "metadata": {},
   "outputs": [],
   "source": [
    "target = df[\"isgood\"]"
   ]
  },
  {
   "cell_type": "code",
   "execution_count": 7,
   "id": "d3c0d3dd",
   "metadata": {},
   "outputs": [],
   "source": [
    "inputs_dict = {}\n",
    "for tk in tokeep:\n",
    "    inputs_dict[tk] = LabelEncoder()"
   ]
  },
  {
   "cell_type": "code",
   "execution_count": 8,
   "id": "575fa6f3",
   "metadata": {},
   "outputs": [
    {
     "data": {
      "text/html": [
       "<div>\n",
       "<style scoped>\n",
       "    .dataframe tbody tr th:only-of-type {\n",
       "        vertical-align: middle;\n",
       "    }\n",
       "\n",
       "    .dataframe tbody tr th {\n",
       "        vertical-align: top;\n",
       "    }\n",
       "\n",
       "    .dataframe thead th {\n",
       "        text-align: right;\n",
       "    }\n",
       "</style>\n",
       "<table border=\"1\" class=\"dataframe\">\n",
       "  <thead>\n",
       "    <tr style=\"text-align: right;\">\n",
       "      <th></th>\n",
       "      <th>genre</th>\n",
       "      <th>language</th>\n",
       "      <th>director</th>\n",
       "      <th>duration</th>\n",
       "      <th>genre_n</th>\n",
       "      <th>language_n</th>\n",
       "      <th>director_n</th>\n",
       "      <th>duration_n</th>\n",
       "    </tr>\n",
       "  </thead>\n",
       "  <tbody>\n",
       "    <tr>\n",
       "      <th>76</th>\n",
       "      <td>Drama, History</td>\n",
       "      <td>English</td>\n",
       "      <td>D.W. Griffith</td>\n",
       "      <td>163</td>\n",
       "      <td>377</td>\n",
       "      <td>125</td>\n",
       "      <td>1252</td>\n",
       "      <td>108</td>\n",
       "    </tr>\n",
       "    <tr>\n",
       "      <th>506</th>\n",
       "      <td>Drama, Sci-Fi</td>\n",
       "      <td>German</td>\n",
       "      <td>Fritz Lang</td>\n",
       "      <td>153</td>\n",
       "      <td>418</td>\n",
       "      <td>1163</td>\n",
       "      <td>2013</td>\n",
       "      <td>98</td>\n",
       "    </tr>\n",
       "    <tr>\n",
       "      <th>566</th>\n",
       "      <td>Drama, Music, Musical</td>\n",
       "      <td>English</td>\n",
       "      <td>Alan Crosland</td>\n",
       "      <td>88</td>\n",
       "      <td>397</td>\n",
       "      <td>125</td>\n",
       "      <td>115</td>\n",
       "      <td>33</td>\n",
       "    </tr>\n",
       "    <tr>\n",
       "      <th>628</th>\n",
       "      <td>Comedy, Romance</td>\n",
       "      <td>English</td>\n",
       "      <td>Charles Chaplin</td>\n",
       "      <td>72</td>\n",
       "      <td>293</td>\n",
       "      <td>125</td>\n",
       "      <td>956</td>\n",
       "      <td>17</td>\n",
       "    </tr>\n",
       "    <tr>\n",
       "      <th>714</th>\n",
       "      <td>Comedy, Musical</td>\n",
       "      <td>English</td>\n",
       "      <td>Robert Florey, Joseph Santley</td>\n",
       "      <td>96</td>\n",
       "      <td>285</td>\n",
       "      <td>125</td>\n",
       "      <td>5139</td>\n",
       "      <td>41</td>\n",
       "    </tr>\n",
       "  </tbody>\n",
       "</table>\n",
       "</div>"
      ],
      "text/plain": [
       "                     genre language                       director  duration  \\\n",
       "76          Drama, History  English                  D.W. Griffith       163   \n",
       "506          Drama, Sci-Fi   German                     Fritz Lang       153   \n",
       "566  Drama, Music, Musical  English                  Alan Crosland        88   \n",
       "628        Comedy, Romance  English                Charles Chaplin        72   \n",
       "714        Comedy, Musical  English  Robert Florey, Joseph Santley        96   \n",
       "\n",
       "     genre_n  language_n  director_n  duration_n  \n",
       "76       377         125        1252         108  \n",
       "506      418        1163        2013          98  \n",
       "566      397         125         115          33  \n",
       "628      293         125         956          17  \n",
       "714      285         125        5139          41  "
      ]
     },
     "execution_count": 8,
     "metadata": {},
     "output_type": "execute_result"
    }
   ],
   "source": [
    "# transforme champ (str) en champ_n (int)\n",
    "for tk in tokeep:\n",
    "    inputs[tk+\"_n\"] = inputs_dict[tk].fit_transform(inputs[tk])\n",
    "inputs.head()"
   ]
  },
  {
   "cell_type": "code",
   "execution_count": 9,
   "id": "825f7024",
   "metadata": {},
   "outputs": [
    {
     "data": {
      "text/html": [
       "<div>\n",
       "<style scoped>\n",
       "    .dataframe tbody tr th:only-of-type {\n",
       "        vertical-align: middle;\n",
       "    }\n",
       "\n",
       "    .dataframe tbody tr th {\n",
       "        vertical-align: top;\n",
       "    }\n",
       "\n",
       "    .dataframe thead th {\n",
       "        text-align: right;\n",
       "    }\n",
       "</style>\n",
       "<table border=\"1\" class=\"dataframe\">\n",
       "  <thead>\n",
       "    <tr style=\"text-align: right;\">\n",
       "      <th></th>\n",
       "      <th>genre_n</th>\n",
       "      <th>language_n</th>\n",
       "      <th>director_n</th>\n",
       "      <th>duration_n</th>\n",
       "    </tr>\n",
       "  </thead>\n",
       "  <tbody>\n",
       "    <tr>\n",
       "      <th>76</th>\n",
       "      <td>377</td>\n",
       "      <td>125</td>\n",
       "      <td>1252</td>\n",
       "      <td>108</td>\n",
       "    </tr>\n",
       "    <tr>\n",
       "      <th>506</th>\n",
       "      <td>418</td>\n",
       "      <td>1163</td>\n",
       "      <td>2013</td>\n",
       "      <td>98</td>\n",
       "    </tr>\n",
       "    <tr>\n",
       "      <th>566</th>\n",
       "      <td>397</td>\n",
       "      <td>125</td>\n",
       "      <td>115</td>\n",
       "      <td>33</td>\n",
       "    </tr>\n",
       "    <tr>\n",
       "      <th>628</th>\n",
       "      <td>293</td>\n",
       "      <td>125</td>\n",
       "      <td>956</td>\n",
       "      <td>17</td>\n",
       "    </tr>\n",
       "    <tr>\n",
       "      <th>714</th>\n",
       "      <td>285</td>\n",
       "      <td>125</td>\n",
       "      <td>5139</td>\n",
       "      <td>41</td>\n",
       "    </tr>\n",
       "  </tbody>\n",
       "</table>\n",
       "</div>"
      ],
      "text/plain": [
       "     genre_n  language_n  director_n  duration_n\n",
       "76       377         125        1252         108\n",
       "506      418        1163        2013          98\n",
       "566      397         125         115          33\n",
       "628      293         125         956          17\n",
       "714      285         125        5139          41"
      ]
     },
     "execution_count": 9,
     "metadata": {},
     "output_type": "execute_result"
    }
   ],
   "source": [
    "inputs_n = inputs.drop(tokeep,axis=\"columns\")\n",
    "inputs_n.head()"
   ]
  },
  {
   "cell_type": "markdown",
   "id": "beaf070f",
   "metadata": {},
   "source": [
    "# Modélisation arbre de décision"
   ]
  },
  {
   "cell_type": "markdown",
   "id": "28a33869",
   "metadata": {},
   "source": [
    "## Modélisation sur un set"
   ]
  },
  {
   "cell_type": "code",
   "execution_count": 10,
   "id": "fe6aaa72",
   "metadata": {},
   "outputs": [],
   "source": [
    "model = tree.DecisionTreeClassifier()"
   ]
  },
  {
   "cell_type": "code",
   "execution_count": 11,
   "id": "f2f7b5e6",
   "metadata": {},
   "outputs": [
    {
     "data": {
      "text/plain": [
       "DecisionTreeClassifier()"
      ]
     },
     "execution_count": 11,
     "metadata": {},
     "output_type": "execute_result"
    }
   ],
   "source": [
    "model.fit(inputs_n,target)"
   ]
  },
  {
   "cell_type": "code",
   "execution_count": 12,
   "id": "276f2af3",
   "metadata": {},
   "outputs": [
    {
     "data": {
      "text/plain": [
       "array([0])"
      ]
     },
     "execution_count": 12,
     "metadata": {},
     "output_type": "execute_result"
    }
   ],
   "source": [
    "model.predict([[1,5,2000,1]]) # 1 if is good, 0 if not"
   ]
  },
  {
   "cell_type": "markdown",
   "id": "8ee4d816",
   "metadata": {},
   "source": [
    "## Score"
   ]
  },
  {
   "cell_type": "code",
   "execution_count": 13,
   "id": "1025f209",
   "metadata": {},
   "outputs": [
    {
     "name": "stdout",
     "output_type": "stream",
     "text": [
      "0.9995481247175779\n"
     ]
    },
    {
     "data": {
      "text/plain": [
       "0.9995481247175779"
      ]
     },
     "execution_count": 13,
     "metadata": {},
     "output_type": "execute_result"
    }
   ],
   "source": [
    "nb_true = 0\n",
    "nb_false = 0\n",
    "for i in range(0, len(target)):\n",
    "    inp = inputs_n.iloc[i]\n",
    "    if target.iloc[i] == model.predict([inp]):\n",
    "        nb_true+=1\n",
    "    else:\n",
    "        nb_false+=1\n",
    "print(nb_true/(nb_true+nb_false))\n",
    "\n",
    "# en fait on peut juste faire ça\n",
    "model.score(inputs_n,target)"
   ]
  },
  {
   "cell_type": "markdown",
   "id": "668574d8",
   "metadata": {},
   "source": [
    "## Division en 2 sets"
   ]
  },
  {
   "cell_type": "code",
   "execution_count": 14,
   "id": "f38d4a1c",
   "metadata": {},
   "outputs": [],
   "source": [
    "input_train, input_test, target_train, target_test = train_test_split(inputs_n, target)"
   ]
  },
  {
   "cell_type": "code",
   "execution_count": 15,
   "id": "b363c4c5",
   "metadata": {},
   "outputs": [
    {
     "data": {
      "text/plain": [
       "DecisionTreeClassifier()"
      ]
     },
     "execution_count": 15,
     "metadata": {},
     "output_type": "execute_result"
    }
   ],
   "source": [
    "model_train = tree.DecisionTreeClassifier()\n",
    "model_train.fit(input_train,target_train)\n"
   ]
  },
  {
   "cell_type": "code",
   "execution_count": 16,
   "id": "4006870b",
   "metadata": {},
   "outputs": [
    {
     "data": {
      "text/plain": [
       "0.9996987346856798"
      ]
     },
     "execution_count": 16,
     "metadata": {},
     "output_type": "execute_result"
    }
   ],
   "source": [
    "model_train.score(input_train, target_train)"
   ]
  },
  {
   "cell_type": "code",
   "execution_count": 17,
   "id": "a7aa9455",
   "metadata": {},
   "outputs": [
    {
     "data": {
      "text/plain": [
       "0.5876506024096385"
      ]
     },
     "execution_count": 17,
     "metadata": {},
     "output_type": "execute_result"
    }
   ],
   "source": [
    "model_train.score(input_test, target_test)"
   ]
  }
 ],
 "metadata": {
  "kernelspec": {
   "display_name": "Python 3",
   "language": "python",
   "name": "python3"
  },
  "language_info": {
   "codemirror_mode": {
    "name": "ipython",
    "version": 3
   },
   "file_extension": ".py",
   "mimetype": "text/x-python",
   "name": "python",
   "nbconvert_exporter": "python",
   "pygments_lexer": "ipython3",
   "version": "3.9.2"
  }
 },
 "nbformat": 4,
 "nbformat_minor": 5
}
