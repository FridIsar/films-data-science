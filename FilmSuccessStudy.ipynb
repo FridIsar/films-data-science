{
 "cells": [
  {
   "cell_type": "code",
   "execution_count": 117,
   "id": "b2b8c906",
   "metadata": {
    "scrolled": true
   },
   "outputs": [
    {
     "data": {
      "text/plain": [
       "imdb_title_id             object\n",
       "title                     object\n",
       "original_title            object\n",
       "year                      object\n",
       "date_published            object\n",
       "genre                     object\n",
       "duration                   int64\n",
       "country                   object\n",
       "language                  object\n",
       "director                  object\n",
       "writer                    object\n",
       "production_company        object\n",
       "actors                    object\n",
       "description               object\n",
       "avg_vote                 float64\n",
       "votes                      int64\n",
       "budget                    object\n",
       "usa_gross_income          object\n",
       "worlwide_gross_income     object\n",
       "metascore                float64\n",
       "reviews_from_users       float64\n",
       "reviews_from_critics     float64\n",
       "isgood                     int64\n",
       "dtype: object"
      ]
     },
     "execution_count": 117,
     "metadata": {},
     "output_type": "execute_result"
    }
   ],
   "source": [
    "%matplotlib notebook\n",
    "import matplotlib.pyplot as plt\n",
    "import pandas as pd\n",
    "import numpy as np\n",
    "\n",
    "from modules import cleanmodule as cm\n",
    "\n",
    "\n",
    "df = pd.read_csv(\"/Users/isar/PycharmProjects/films-data-science/datasets/films-imdb/IMDb movies.csv\", low_memory=False)\n",
    "df = df[df['metascore'].notna()] # keep rows where metascore not NaN\n",
    "df['isgood'] = np.where(df['metascore'] > 56, 1, 0)\n",
    "df.head()\n",
    "#df['isgood'].value_counts()\n",
    "df.dtypes"
   ]
  },
  {
   "cell_type": "code",
   "execution_count": 109,
   "id": "3fbd097a",
   "metadata": {},
   "outputs": [
    {
     "name": "stdout",
     "output_type": "stream",
     "text": [
      "13305\n"
     ]
    },
    {
     "data": {
      "text/html": [
       "<div>\n",
       "<style scoped>\n",
       "    .dataframe tbody tr th:only-of-type {\n",
       "        vertical-align: middle;\n",
       "    }\n",
       "\n",
       "    .dataframe tbody tr th {\n",
       "        vertical-align: top;\n",
       "    }\n",
       "\n",
       "    .dataframe thead th {\n",
       "        text-align: right;\n",
       "    }\n",
       "</style>\n",
       "<table border=\"1\" class=\"dataframe\">\n",
       "  <thead>\n",
       "    <tr style=\"text-align: right;\">\n",
       "      <th></th>\n",
       "      <th>imdb_title_id</th>\n",
       "      <th>title</th>\n",
       "      <th>original_title</th>\n",
       "      <th>year</th>\n",
       "      <th>date_published</th>\n",
       "      <th>genre</th>\n",
       "      <th>duration</th>\n",
       "      <th>country</th>\n",
       "      <th>language</th>\n",
       "      <th>director</th>\n",
       "      <th>...</th>\n",
       "      <th>description</th>\n",
       "      <th>avg_vote</th>\n",
       "      <th>votes</th>\n",
       "      <th>budget</th>\n",
       "      <th>usa_gross_income</th>\n",
       "      <th>worlwide_gross_income</th>\n",
       "      <th>metascore</th>\n",
       "      <th>reviews_from_users</th>\n",
       "      <th>reviews_from_critics</th>\n",
       "      <th>isgood</th>\n",
       "    </tr>\n",
       "  </thead>\n",
       "  <tbody>\n",
       "    <tr>\n",
       "      <th>76</th>\n",
       "      <td>tt0006864</td>\n",
       "      <td>Intolerance</td>\n",
       "      <td>Intolerance: Love's Struggle Throughout the Ages</td>\n",
       "      <td>1916</td>\n",
       "      <td>1918-02-24</td>\n",
       "      <td>Drama, History</td>\n",
       "      <td>163</td>\n",
       "      <td>USA</td>\n",
       "      <td>English</td>\n",
       "      <td>D.W. Griffith</td>\n",
       "      <td>...</td>\n",
       "      <td>The story of a poor young woman, separated by ...</td>\n",
       "      <td>7.8</td>\n",
       "      <td>13875</td>\n",
       "      <td>3377076.62</td>\n",
       "      <td>NaN</td>\n",
       "      <td>NaN</td>\n",
       "      <td>99.0</td>\n",
       "      <td>111.0</td>\n",
       "      <td>77.0</td>\n",
       "      <td>1</td>\n",
       "    </tr>\n",
       "    <tr>\n",
       "      <th>506</th>\n",
       "      <td>tt0017136</td>\n",
       "      <td>Metropolis</td>\n",
       "      <td>Metropolis</td>\n",
       "      <td>1927</td>\n",
       "      <td>1928-10-01</td>\n",
       "      <td>Drama, Sci-Fi</td>\n",
       "      <td>153</td>\n",
       "      <td>Germany</td>\n",
       "      <td>German</td>\n",
       "      <td>Fritz Lang</td>\n",
       "      <td>...</td>\n",
       "      <td>In a futuristic city sharply divided between t...</td>\n",
       "      <td>8.3</td>\n",
       "      <td>156076</td>\n",
       "      <td>33691028.30</td>\n",
       "      <td>$ 1236166</td>\n",
       "      <td>11811336.55</td>\n",
       "      <td>98.0</td>\n",
       "      <td>495.0</td>\n",
       "      <td>208.0</td>\n",
       "      <td>1</td>\n",
       "    </tr>\n",
       "    <tr>\n",
       "      <th>566</th>\n",
       "      <td>tt0018037</td>\n",
       "      <td>Il cantante di jazz</td>\n",
       "      <td>The Jazz Singer</td>\n",
       "      <td>1927</td>\n",
       "      <td>1928-02-04</td>\n",
       "      <td>Drama, Music, Musical</td>\n",
       "      <td>88</td>\n",
       "      <td>USA</td>\n",
       "      <td>English</td>\n",
       "      <td>Alan Crosland</td>\n",
       "      <td>...</td>\n",
       "      <td>The son of a Jewish Cantor must defy the tradi...</td>\n",
       "      <td>6.5</td>\n",
       "      <td>8866</td>\n",
       "      <td>3692926.88</td>\n",
       "      <td>NaN</td>\n",
       "      <td>NaN</td>\n",
       "      <td>66.0</td>\n",
       "      <td>104.0</td>\n",
       "      <td>63.0</td>\n",
       "      <td>1</td>\n",
       "    </tr>\n",
       "    <tr>\n",
       "      <th>628</th>\n",
       "      <td>tt0018773</td>\n",
       "      <td>Il circo</td>\n",
       "      <td>The Circus</td>\n",
       "      <td>1928</td>\n",
       "      <td>1928-10-01</td>\n",
       "      <td>Comedy, Romance</td>\n",
       "      <td>72</td>\n",
       "      <td>USA</td>\n",
       "      <td>English</td>\n",
       "      <td>Charles Chaplin</td>\n",
       "      <td>...</td>\n",
       "      <td>The Tramp finds work and the girl of his dream...</td>\n",
       "      <td>8.1</td>\n",
       "      <td>27414</td>\n",
       "      <td>7875910.40</td>\n",
       "      <td>NaN</td>\n",
       "      <td>235542.23</td>\n",
       "      <td>90.0</td>\n",
       "      <td>327.0</td>\n",
       "      <td>65.0</td>\n",
       "      <td>1</td>\n",
       "    </tr>\n",
       "    <tr>\n",
       "      <th>714</th>\n",
       "      <td>tt0019777</td>\n",
       "      <td>The Cocoanuts</td>\n",
       "      <td>The Cocoanuts</td>\n",
       "      <td>1929</td>\n",
       "      <td>1929-08-03</td>\n",
       "      <td>Comedy, Musical</td>\n",
       "      <td>96</td>\n",
       "      <td>USA</td>\n",
       "      <td>English</td>\n",
       "      <td>Robert Florey, Joseph Santley</td>\n",
       "      <td>...</td>\n",
       "      <td>During the Florida land boom,</td>\n",
       "      <td>7.0</td>\n",
       "      <td>6900</td>\n",
       "      <td>4375505.78</td>\n",
       "      <td>NaN</td>\n",
       "      <td>NaN</td>\n",
       "      <td>69.0</td>\n",
       "      <td>71.0</td>\n",
       "      <td>43.0</td>\n",
       "      <td>1</td>\n",
       "    </tr>\n",
       "  </tbody>\n",
       "</table>\n",
       "<p>5 rows × 23 columns</p>\n",
       "</div>"
      ],
      "text/plain": [
       "    imdb_title_id                title  \\\n",
       "76      tt0006864          Intolerance   \n",
       "506     tt0017136           Metropolis   \n",
       "566     tt0018037  Il cantante di jazz   \n",
       "628     tt0018773             Il circo   \n",
       "714     tt0019777        The Cocoanuts   \n",
       "\n",
       "                                       original_title  year date_published  \\\n",
       "76   Intolerance: Love's Struggle Throughout the Ages  1916     1918-02-24   \n",
       "506                                        Metropolis  1927     1928-10-01   \n",
       "566                                   The Jazz Singer  1927     1928-02-04   \n",
       "628                                        The Circus  1928     1928-10-01   \n",
       "714                                     The Cocoanuts  1929     1929-08-03   \n",
       "\n",
       "                     genre  duration  country language  \\\n",
       "76          Drama, History       163      USA  English   \n",
       "506          Drama, Sci-Fi       153  Germany   German   \n",
       "566  Drama, Music, Musical        88      USA  English   \n",
       "628        Comedy, Romance        72      USA  English   \n",
       "714        Comedy, Musical        96      USA  English   \n",
       "\n",
       "                          director  ...  \\\n",
       "76                   D.W. Griffith  ...   \n",
       "506                     Fritz Lang  ...   \n",
       "566                  Alan Crosland  ...   \n",
       "628                Charles Chaplin  ...   \n",
       "714  Robert Florey, Joseph Santley  ...   \n",
       "\n",
       "                                           description avg_vote   votes  \\\n",
       "76   The story of a poor young woman, separated by ...      7.8   13875   \n",
       "506  In a futuristic city sharply divided between t...      8.3  156076   \n",
       "566  The son of a Jewish Cantor must defy the tradi...      6.5    8866   \n",
       "628  The Tramp finds work and the girl of his dream...      8.1   27414   \n",
       "714                      During the Florida land boom,      7.0    6900   \n",
       "\n",
       "          budget  usa_gross_income  worlwide_gross_income  metascore  \\\n",
       "76    3377076.62               NaN                    NaN       99.0   \n",
       "506  33691028.30         $ 1236166            11811336.55       98.0   \n",
       "566   3692926.88               NaN                    NaN       66.0   \n",
       "628   7875910.40               NaN              235542.23       90.0   \n",
       "714   4375505.78               NaN                    NaN       69.0   \n",
       "\n",
       "    reviews_from_users  reviews_from_critics  isgood  \n",
       "76               111.0                  77.0       1  \n",
       "506              495.0                 208.0       1  \n",
       "566              104.0                  63.0       1  \n",
       "628              327.0                  65.0       1  \n",
       "714               71.0                  43.0       1  \n",
       "\n",
       "[5 rows x 23 columns]"
      ]
     },
     "execution_count": 109,
     "metadata": {},
     "output_type": "execute_result"
    }
   ],
   "source": [
    "print(len(df.index)) # nb rows\n",
    "df['country'] = df['country'].apply(cm.clean_countries).astype('str')\n",
    "df['date_published'] = df['date_published'].apply(clean_dates).astype('datetime64')\n",
    "df = df[df['year'].notna()]\n",
    "df = df[df['country'].notna()]\n",
    "df = df[df['budget'].notna()]\n",
    "df['budget'] = df.apply(clean_currency, axis=1, args=[\"budget\"]).astype('float')\n",
    "df['worlwide_gross_income'] = df.apply(clean_currency, axis=1, args=[\"worlwide_gross_income\"]).astype('float')\n",
    "#df.dtypes\n",
    "#df.loc[df['title'] == \"Jeanne\"]\n",
    "df.head()\n"
   ]
  },
  {
   "cell_type": "code",
   "execution_count": 73,
   "id": "883c81ab",
   "metadata": {},
   "outputs": [
    {
     "data": {
      "text/html": [
       "<div>\n",
       "<style scoped>\n",
       "    .dataframe tbody tr th:only-of-type {\n",
       "        vertical-align: middle;\n",
       "    }\n",
       "\n",
       "    .dataframe tbody tr th {\n",
       "        vertical-align: top;\n",
       "    }\n",
       "\n",
       "    .dataframe thead th {\n",
       "        text-align: right;\n",
       "    }\n",
       "</style>\n",
       "<table border=\"1\" class=\"dataframe\">\n",
       "  <thead>\n",
       "    <tr style=\"text-align: right;\">\n",
       "      <th></th>\n",
       "      <th>genre</th>\n",
       "      <th>language</th>\n",
       "      <th>director</th>\n",
       "      <th>duration</th>\n",
       "    </tr>\n",
       "  </thead>\n",
       "  <tbody>\n",
       "    <tr>\n",
       "      <th>76</th>\n",
       "      <td>Drama, History</td>\n",
       "      <td>English</td>\n",
       "      <td>D.W. Griffith</td>\n",
       "      <td>163</td>\n",
       "    </tr>\n",
       "    <tr>\n",
       "      <th>506</th>\n",
       "      <td>Drama, Sci-Fi</td>\n",
       "      <td>German</td>\n",
       "      <td>Fritz Lang</td>\n",
       "      <td>153</td>\n",
       "    </tr>\n",
       "    <tr>\n",
       "      <th>566</th>\n",
       "      <td>Drama, Music, Musical</td>\n",
       "      <td>English</td>\n",
       "      <td>Alan Crosland</td>\n",
       "      <td>88</td>\n",
       "    </tr>\n",
       "    <tr>\n",
       "      <th>628</th>\n",
       "      <td>Comedy, Romance</td>\n",
       "      <td>English</td>\n",
       "      <td>Charles Chaplin</td>\n",
       "      <td>72</td>\n",
       "    </tr>\n",
       "    <tr>\n",
       "      <th>714</th>\n",
       "      <td>Comedy, Musical</td>\n",
       "      <td>English</td>\n",
       "      <td>Robert Florey, Joseph Santley</td>\n",
       "      <td>96</td>\n",
       "    </tr>\n",
       "    <tr>\n",
       "      <th>...</th>\n",
       "      <td>...</td>\n",
       "      <td>...</td>\n",
       "      <td>...</td>\n",
       "      <td>...</td>\n",
       "    </tr>\n",
       "    <tr>\n",
       "      <th>85460</th>\n",
       "      <td>Animation, Drama, Family</td>\n",
       "      <td>Japanese</td>\n",
       "      <td>Makoto Shinkai</td>\n",
       "      <td>112</td>\n",
       "    </tr>\n",
       "    <tr>\n",
       "      <th>85503</th>\n",
       "      <td>Drama</td>\n",
       "      <td>English, Italian, Russian</td>\n",
       "      <td>Abel Ferrara</td>\n",
       "      <td>115</td>\n",
       "    </tr>\n",
       "    <tr>\n",
       "      <th>85592</th>\n",
       "      <td>Drama, History</td>\n",
       "      <td>English</td>\n",
       "      <td>Matthew E. Rosen</td>\n",
       "      <td>127</td>\n",
       "    </tr>\n",
       "    <tr>\n",
       "      <th>85618</th>\n",
       "      <td>Drama</td>\n",
       "      <td>English</td>\n",
       "      <td>Dan Sallitt</td>\n",
       "      <td>94</td>\n",
       "    </tr>\n",
       "    <tr>\n",
       "      <th>85740</th>\n",
       "      <td>Biography, Drama, Music</td>\n",
       "      <td>English</td>\n",
       "      <td>Andrew Erwin, Jon Erwin</td>\n",
       "      <td>116</td>\n",
       "    </tr>\n",
       "  </tbody>\n",
       "</table>\n",
       "<p>7707 rows × 4 columns</p>\n",
       "</div>"
      ],
      "text/plain": [
       "                          genre                   language  \\\n",
       "76               Drama, History                    English   \n",
       "506               Drama, Sci-Fi                     German   \n",
       "566       Drama, Music, Musical                    English   \n",
       "628             Comedy, Romance                    English   \n",
       "714             Comedy, Musical                    English   \n",
       "...                         ...                        ...   \n",
       "85460  Animation, Drama, Family                   Japanese   \n",
       "85503                     Drama  English, Italian, Russian   \n",
       "85592            Drama, History                    English   \n",
       "85618                     Drama                    English   \n",
       "85740   Biography, Drama, Music                    English   \n",
       "\n",
       "                            director  duration  \n",
       "76                     D.W. Griffith       163  \n",
       "506                       Fritz Lang       153  \n",
       "566                    Alan Crosland        88  \n",
       "628                  Charles Chaplin        72  \n",
       "714    Robert Florey, Joseph Santley        96  \n",
       "...                              ...       ...  \n",
       "85460                 Makoto Shinkai       112  \n",
       "85503                   Abel Ferrara       115  \n",
       "85592               Matthew E. Rosen       127  \n",
       "85618                    Dan Sallitt        94  \n",
       "85740        Andrew Erwin, Jon Erwin       116  \n",
       "\n",
       "[7707 rows x 4 columns]"
      ]
     },
     "execution_count": 73,
     "metadata": {},
     "output_type": "execute_result"
    }
   ],
   "source": [
    "tokeep =  ['genre', 'language', 'director', 'duration']\n",
    "\n",
    "# on trie si il reste de NaN\n",
    "for tk in tokeep:\n",
    "    df = df[df[tk].notna()]\n",
    "    \n",
    "target = df[\"isgood\"]\n",
    "inputs = df.loc[:, tokeep]\n",
    "inputs"
   ]
  },
  {
   "cell_type": "code",
   "execution_count": 89,
   "id": "51482f1b",
   "metadata": {},
   "outputs": [
    {
     "data": {
      "image/png": "[encoded data removed]",
      "text/plain": [
       "<Figure size 2880x648 with 1 Axes>"
      ]
     },
     "metadata": {},
     "output_type": "display_data"
    }
   ],
   "source": [
    "# for integrated graphs:\n",
    "%matplotlib notebook\n",
    "\n",
    "from modules import visumodule # pip install seaborn\n",
    "import importlib\n",
    "importlib.reload(visumodule)\n",
    "\n",
    "vm = visumodule.Visualiser(df)\n",
    "\n",
    "vm.distribution(\"genre\")"
   ]
  },
  {
   "cell_type": "code",
   "execution_count": 75,
   "id": "dfe43617",
   "metadata": {},
   "outputs": [],
   "source": [
    "from sklearn.preprocessing import LabelEncoder"
   ]
  },
  {
   "cell_type": "code",
   "execution_count": 76,
   "id": "d3c0d3dd",
   "metadata": {},
   "outputs": [],
   "source": [
    "inputs_dict = {}\n",
    "for tk in tokeep:\n",
    "    inputs_dict[tk] = LabelEncoder()"
   ]
  },
  {
   "cell_type": "code",
   "execution_count": 77,
   "id": "575fa6f3",
   "metadata": {},
   "outputs": [
    {
     "data": {
      "text/html": [
       "<div>\n",
       "<style scoped>\n",
       "    .dataframe tbody tr th:only-of-type {\n",
       "        vertical-align: middle;\n",
       "    }\n",
       "\n",
       "    .dataframe tbody tr th {\n",
       "        vertical-align: top;\n",
       "    }\n",
       "\n",
       "    .dataframe thead th {\n",
       "        text-align: right;\n",
       "    }\n",
       "</style>\n",
       "<table border=\"1\" class=\"dataframe\">\n",
       "  <thead>\n",
       "    <tr style=\"text-align: right;\">\n",
       "      <th></th>\n",
       "      <th>genre</th>\n",
       "      <th>language</th>\n",
       "      <th>director</th>\n",
       "      <th>duration</th>\n",
       "      <th>genre_n</th>\n",
       "      <th>language_n</th>\n",
       "      <th>director_n</th>\n",
       "      <th>duration_n</th>\n",
       "    </tr>\n",
       "  </thead>\n",
       "  <tbody>\n",
       "    <tr>\n",
       "      <th>76</th>\n",
       "      <td>Drama, History</td>\n",
       "      <td>English</td>\n",
       "      <td>D.W. Griffith</td>\n",
       "      <td>163</td>\n",
       "      <td>325</td>\n",
       "      <td>69</td>\n",
       "      <td>680</td>\n",
       "      <td>101</td>\n",
       "    </tr>\n",
       "    <tr>\n",
       "      <th>506</th>\n",
       "      <td>Drama, Sci-Fi</td>\n",
       "      <td>German</td>\n",
       "      <td>Fritz Lang</td>\n",
       "      <td>153</td>\n",
       "      <td>362</td>\n",
       "      <td>880</td>\n",
       "      <td>1101</td>\n",
       "      <td>91</td>\n",
       "    </tr>\n",
       "    <tr>\n",
       "      <th>566</th>\n",
       "      <td>Drama, Music, Musical</td>\n",
       "      <td>English</td>\n",
       "      <td>Alan Crosland</td>\n",
       "      <td>88</td>\n",
       "      <td>343</td>\n",
       "      <td>69</td>\n",
       "      <td>56</td>\n",
       "      <td>26</td>\n",
       "    </tr>\n",
       "    <tr>\n",
       "      <th>628</th>\n",
       "      <td>Comedy, Romance</td>\n",
       "      <td>English</td>\n",
       "      <td>Charles Chaplin</td>\n",
       "      <td>72</td>\n",
       "      <td>257</td>\n",
       "      <td>69</td>\n",
       "      <td>510</td>\n",
       "      <td>10</td>\n",
       "    </tr>\n",
       "    <tr>\n",
       "      <th>714</th>\n",
       "      <td>Comedy, Musical</td>\n",
       "      <td>English</td>\n",
       "      <td>Robert Florey, Joseph Santley</td>\n",
       "      <td>96</td>\n",
       "      <td>251</td>\n",
       "      <td>69</td>\n",
       "      <td>2860</td>\n",
       "      <td>34</td>\n",
       "    </tr>\n",
       "  </tbody>\n",
       "</table>\n",
       "</div>"
      ],
      "text/plain": [
       "                     genre language                       director  duration  \\\n",
       "76          Drama, History  English                  D.W. Griffith       163   \n",
       "506          Drama, Sci-Fi   German                     Fritz Lang       153   \n",
       "566  Drama, Music, Musical  English                  Alan Crosland        88   \n",
       "628        Comedy, Romance  English                Charles Chaplin        72   \n",
       "714        Comedy, Musical  English  Robert Florey, Joseph Santley        96   \n",
       "\n",
       "     genre_n  language_n  director_n  duration_n  \n",
       "76       325          69         680         101  \n",
       "506      362         880        1101          91  \n",
       "566      343          69          56          26  \n",
       "628      257          69         510          10  \n",
       "714      251          69        2860          34  "
      ]
     },
     "execution_count": 77,
     "metadata": {},
     "output_type": "execute_result"
    }
   ],
   "source": [
    "# transforme champ (str) en champ_n (int)\n",
    "for tk in tokeep:\n",
    "    inputs[tk+\"_n\"] = inputs_dict[tk].fit_transform(inputs[tk])\n",
    "inputs.head()"
   ]
  },
  {
   "cell_type": "code",
   "execution_count": 78,
   "id": "825f7024",
   "metadata": {},
   "outputs": [
    {
     "data": {
      "text/html": [
       "<div>\n",
       "<style scoped>\n",
       "    .dataframe tbody tr th:only-of-type {\n",
       "        vertical-align: middle;\n",
       "    }\n",
       "\n",
       "    .dataframe tbody tr th {\n",
       "        vertical-align: top;\n",
       "    }\n",
       "\n",
       "    .dataframe thead th {\n",
       "        text-align: right;\n",
       "    }\n",
       "</style>\n",
       "<table border=\"1\" class=\"dataframe\">\n",
       "  <thead>\n",
       "    <tr style=\"text-align: right;\">\n",
       "      <th></th>\n",
       "      <th>genre_n</th>\n",
       "      <th>language_n</th>\n",
       "      <th>director_n</th>\n",
       "      <th>duration_n</th>\n",
       "    </tr>\n",
       "  </thead>\n",
       "  <tbody>\n",
       "    <tr>\n",
       "      <th>76</th>\n",
       "      <td>325</td>\n",
       "      <td>69</td>\n",
       "      <td>680</td>\n",
       "      <td>101</td>\n",
       "    </tr>\n",
       "    <tr>\n",
       "      <th>506</th>\n",
       "      <td>362</td>\n",
       "      <td>880</td>\n",
       "      <td>1101</td>\n",
       "      <td>91</td>\n",
       "    </tr>\n",
       "    <tr>\n",
       "      <th>566</th>\n",
       "      <td>343</td>\n",
       "      <td>69</td>\n",
       "      <td>56</td>\n",
       "      <td>26</td>\n",
       "    </tr>\n",
       "    <tr>\n",
       "      <th>628</th>\n",
       "      <td>257</td>\n",
       "      <td>69</td>\n",
       "      <td>510</td>\n",
       "      <td>10</td>\n",
       "    </tr>\n",
       "    <tr>\n",
       "      <th>714</th>\n",
       "      <td>251</td>\n",
       "      <td>69</td>\n",
       "      <td>2860</td>\n",
       "      <td>34</td>\n",
       "    </tr>\n",
       "  </tbody>\n",
       "</table>\n",
       "</div>"
      ],
      "text/plain": [
       "     genre_n  language_n  director_n  duration_n\n",
       "76       325          69         680         101\n",
       "506      362         880        1101          91\n",
       "566      343          69          56          26\n",
       "628      257          69         510          10\n",
       "714      251          69        2860          34"
      ]
     },
     "execution_count": 78,
     "metadata": {},
     "output_type": "execute_result"
    }
   ],
   "source": [
    "inputs_n = inputs.drop(tokeep,axis=\"columns\")\n",
    "inputs_n.head()"
   ]
  },
  {
   "cell_type": "code",
   "execution_count": 79,
   "id": "841badd0",
   "metadata": {},
   "outputs": [],
   "source": [
    "from sklearn import tree # AVANT DE FAIRE UN ARBRE FAISONS DES CORRELATIONS VISUELLES"
   ]
  },
  {
   "cell_type": "code",
   "execution_count": 80,
   "id": "fe6aaa72",
   "metadata": {},
   "outputs": [],
   "source": [
    "model = tree.DecisionTreeClassifier()"
   ]
  },
  {
   "cell_type": "code",
   "execution_count": 81,
   "id": "f2f7b5e6",
   "metadata": {},
   "outputs": [
    {
     "data": {
      "text/plain": [
       "DecisionTreeClassifier()"
      ]
     },
     "execution_count": 81,
     "metadata": {},
     "output_type": "execute_result"
    }
   ],
   "source": [
    "model.fit(inputs_n,target)"
   ]
  },
  {
   "cell_type": "code",
   "execution_count": 82,
   "id": "276f2af3",
   "metadata": {},
   "outputs": [],
   "source": [
    "#model.predict([[1462,125,294]])"
   ]
  },
  {
   "cell_type": "code",
   "execution_count": 83,
   "id": "1025f209",
   "metadata": {},
   "outputs": [
    {
     "name": "stdout",
     "output_type": "stream",
     "text": [
      "0.9992214869599065\n"
     ]
    },
    {
     "data": {
      "text/plain": [
       "0.9992214869599065"
      ]
     },
     "execution_count": 83,
     "metadata": {},
     "output_type": "execute_result"
    }
   ],
   "source": [
    "nb_true = 0\n",
    "nb_false = 0\n",
    "for i in range(0, len(target)):\n",
    "    inp = inputs_n.iloc[i]\n",
    "    if target.iloc[i] == model.predict([inp]):\n",
    "        nb_true+=1\n",
    "    else:\n",
    "        nb_false+=1\n",
    "print(nb_true/(nb_true+nb_false))\n",
    "\n",
    "# en fait on peut juste faire ça\n",
    "model.score(inputs_n,target)"
   ]
  },
  {
   "cell_type": "code",
   "execution_count": 84,
   "id": "f38d4a1c",
   "metadata": {},
   "outputs": [],
   "source": [
    "from sklearn.model_selection import train_test_split\n",
    "input_train, input_test, target_train, target_test = train_test_split(inputs_n, target)"
   ]
  },
  {
   "cell_type": "code",
   "execution_count": 85,
   "id": "b363c4c5",
   "metadata": {},
   "outputs": [
    {
     "data": {
      "text/plain": [
       "DecisionTreeClassifier()"
      ]
     },
     "execution_count": 85,
     "metadata": {},
     "output_type": "execute_result"
    }
   ],
   "source": [
    "model_train = tree.DecisionTreeClassifier()\n",
    "model_train.fit(input_train,target_train)\n"
   ]
  },
  {
   "cell_type": "code",
   "execution_count": 91,
   "id": "4006870b",
   "metadata": {},
   "outputs": [
    {
     "data": {
      "text/plain": [
       "0.9993079584775086"
      ]
     },
     "execution_count": 91,
     "metadata": {},
     "output_type": "execute_result"
    }
   ],
   "source": [
    "model_train.score(input_train, target_train)"
   ]
  },
  {
   "cell_type": "code",
   "execution_count": 90,
   "id": "a7aa9455",
   "metadata": {},
   "outputs": [
    {
     "data": {
      "text/plain": [
       "0.5900363258951739"
      ]
     },
     "execution_count": 90,
     "metadata": {},
     "output_type": "execute_result"
    }
   ],
   "source": [
    "model_train.score(input_test, target_test)"
   ]
  },
  {
   "cell_type": "code",
   "execution_count": 88,
   "id": "222e5306",
   "metadata": {},
   "outputs": [],
   "source": [
    "# belle prez si viz pour mise en contexte\n",
    "# todo find most important features (ex: https://towardsdatascience.com/predicting-imdb-movie-ratings-using-supervised-machine-learning-f3b126ab2ddb)\n",
    "# todo predict financial success using regr in new notebook\n",
    "# modulise data cleaner"
   ]
  },
  {
   "cell_type": "code",
   "execution_count": null,
   "id": "777ac17a",
   "metadata": {},
   "outputs": [],
   "source": []
  },
  {
   "cell_type": "code",
   "execution_count": null,
   "id": "dce6ae52",
   "metadata": {},
   "outputs": [],
   "source": []
  },
  {
   "cell_type": "code",
   "execution_count": null,
   "id": "378c3fa9",
   "metadata": {},
   "outputs": [],
   "source": []
  }
 ],
 "metadata": {
  "kernelspec": {
   "display_name": "Python 3",
   "language": "python",
   "name": "python3"
  },
  "language_info": {
   "codemirror_mode": {
    "name": "ipython",
    "version": 3
   },
   "file_extension": ".py",
   "mimetype": "text/x-python",
   "name": "python",
   "nbconvert_exporter": "python",
   "pygments_lexer": "ipython3",
   "version": "3.9.2"
  }
 },
 "nbformat": 4,
 "nbformat_minor": 5
}
